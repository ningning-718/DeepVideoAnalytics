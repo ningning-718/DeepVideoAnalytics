{
 "cells": [
  {
   "cell_type": "code",
   "execution_count": 1,
   "metadata": {
    "collapsed": true
   },
   "outputs": [],
   "source": [
    "import tensorflow as tf\n",
    "import numpy as np\n",
    "import glob\n",
    "from tensorflow.python.platform import gfile"
   ]
  },
  {
   "cell_type": "code",
   "execution_count": 2,
   "metadata": {
    "collapsed": false
   },
   "outputs": [],
   "source": [
    "import tensorflow as tf\n",
    "path = \"/Users/aub3/Dropbox/DeepVideoAnalytics/notebooks/OCR/images/*.jpg\""
   ]
  },
  {
   "cell_type": "code",
   "execution_count": 3,
   "metadata": {
    "collapsed": false
   },
   "outputs": [],
   "source": [
    "sess = tf.InteractiveSession()\n",
    "network_path = '/Users/aub3/Dropbox/DeepVideoAnalytics/dvalib/data/network.pb'\n",
    "with gfile.FastGFile(network_path, 'rb') as f:\n",
    "    graph_def = tf.GraphDef()\n",
    "    graph_def.ParseFromString(f.read())\n",
    "    filename_path = tf.train.match_filenames_once(path)\n",
    "    filename_queue = tf.train.string_input_producer(filename_path,shuffle=False)\n",
    "    image_reader = tf.WholeFileReader()\n",
    "    file_name, image_file = image_reader.read(filename_queue)\n",
    "    image = tf.image.decode_jpeg(image_file)\n",
    "    _ = tf.import_graph_def(graph_def, name='incept',input_map={'DecodeJpeg': image})\n",
    "    pool3 = sess.graph.get_tensor_by_name('incept/pool_3:0')"
   ]
  },
  {
   "cell_type": "code",
   "execution_count": 7,
   "metadata": {
    "collapsed": false
   },
   "outputs": [
    {
     "data": {
      "text/plain": [
       "array([ '/Users/aub3/Dropbox/DeepVideoAnalytics/notebooks/OCR/images/example_1.jpg',\n",
       "       '/Users/aub3/Dropbox/DeepVideoAnalytics/notebooks/OCR/images/example_2.jpg',\n",
       "       '/Users/aub3/Dropbox/DeepVideoAnalytics/notebooks/OCR/images/example_3.jpg'], dtype=object)"
      ]
     },
     "execution_count": 7,
     "metadata": {},
     "output_type": "execute_result"
    }
   ],
   "source": [
    "tf.local_variables_initializer().run()\n",
    "sess.run(filename_path)"
   ]
  },
  {
   "cell_type": "code",
   "execution_count": null,
   "metadata": {
    "collapsed": false
   },
   "outputs": [],
   "source": [
    "coord = tf.train.Coordinator()\n",
    "threads = tf.train.start_queue_runners(coord=coord)\n",
    "for k in range(5):\n",
    "    fname, emb = sess.run([file_name,pool3])\n",
    "    print fname, emb.shape, np.mean(emb)\n",
    "coord.request_stop()\n",
    "coord.join(threads)"
   ]
  },
  {
   "cell_type": "code",
   "execution_count": null,
   "metadata": {
    "collapsed": false
   },
   "outputs": [],
   "source": [
    "new_path = \"/Users/aub3/Dropbox/DeepVideoAnalytics/notebooks/OCR/boxes/*.jpg\"\n",
    "filename_queue = tf.train.string_input_producer(tf.train.match_filenames_once(new_path),shuffle=False)"
   ]
  },
  {
   "cell_type": "code",
   "execution_count": null,
   "metadata": {
    "collapsed": false,
    "scrolled": false
   },
   "outputs": [],
   "source": [
    "tf.local_variables_initializer().run()\n",
    "coord = tf.train.Coordinator()\n",
    "threads = tf.train.start_queue_runners(coord=coord)\n",
    "for k in range(10):\n",
    "    fname, emb = sess.run([file_name,pool3])\n",
    "    print fname, emb.shape, np.mean(emb)\n",
    "coord.request_stop()\n",
    "coord.join(threads)"
   ]
  },
  {
   "cell_type": "code",
   "execution_count": null,
   "metadata": {
    "collapsed": true
   },
   "outputs": [],
   "source": [
    ""
   ]
  }
 ],
 "metadata": {
  "kernelspec": {
   "display_name": "Python 2",
   "language": "python",
   "name": "python2"
  },
  "language_info": {
   "codemirror_mode": {
    "name": "ipython",
    "version": 2.0
   },
   "file_extension": ".py",
   "mimetype": "text/x-python",
   "name": "python",
   "nbconvert_exporter": "python",
   "pygments_lexer": "ipython2",
   "version": "2.7.10"
  }
 },
 "nbformat": 4,
 "nbformat_minor": 0
}