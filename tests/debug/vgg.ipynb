{
 "cells": [
  {
   "cell_type": "code",
   "execution_count": 1,
   "metadata": {
    "collapsed": true
   },
   "outputs": [],
   "source": [
    "import tensorflow as tf\n",
    "with open(\"../dvalib/data/vgg.pb\", mode='rb') as f:\n",
    "    graph_def = tf.GraphDef()\n",
    "    graph_def.ParseFromString(f.read())"
   ]
  },
  {
   "cell_type": "code",
   "execution_count": 2,
   "metadata": {
    "collapsed": false
   },
   "outputs": [],
   "source": [
    "tf.import_graph_def(graph_def,name='vgg',)\n",
    "g = tf.get_default_graph()\n",
    "names = [op.name for op in g.get_operations()]\n",
    "input_name = names[0] + ':0'\n",
    "x = g.get_tensor_by_name(input_name)\n",
    "softmax = g.get_tensor_by_name(names[-2] + ':0')"
   ]
  },
  {
   "cell_type": "code",
   "execution_count": 3,
   "metadata": {
    "collapsed": false,
    "scrolled": false
   },
   "outputs": [
    {
     "name": "stdout",
     "output_type": "stream",
     "text": [
      "vgg/images\n",
      "vgg/mul/y\n",
      "vgg/mul\n",
      "vgg/split/split_dim\n",
      "vgg/split\n",
      "vgg/sub/y\n",
      "vgg/sub\n",
      "vgg/sub_1/y\n",
      "vgg/sub_1\n",
      "vgg/sub_2/y\n",
      "vgg/sub_2\n",
      "vgg/concat/concat_dim\n",
      "vgg/concat\n",
      "vgg/conv1_1/filter\n",
      "vgg/conv1_1/Conv2D\n",
      "vgg/conv1_1/biases\n",
      "vgg/conv1_1/BiasAdd\n",
      "vgg/conv1_1/conv1_1\n",
      "vgg/conv1_2/filter\n",
      "vgg/conv1_2/Conv2D\n",
      "vgg/conv1_2/biases\n",
      "vgg/conv1_2/BiasAdd\n",
      "vgg/conv1_2/conv1_2\n",
      "vgg/pool1\n",
      "vgg/conv2_1/filter\n",
      "vgg/conv2_1/Conv2D\n",
      "vgg/conv2_1/biases\n",
      "vgg/conv2_1/BiasAdd\n",
      "vgg/conv2_1/conv2_1\n",
      "vgg/conv2_2/filter\n",
      "vgg/conv2_2/Conv2D\n",
      "vgg/conv2_2/biases\n",
      "vgg/conv2_2/BiasAdd\n",
      "vgg/conv2_2/conv2_2\n",
      "vgg/pool2\n",
      "vgg/conv3_1/filter\n",
      "vgg/conv3_1/Conv2D\n",
      "vgg/conv3_1/biases\n",
      "vgg/conv3_1/BiasAdd\n",
      "vgg/conv3_1/conv3_1\n",
      "vgg/conv3_2/filter\n",
      "vgg/conv3_2/Conv2D\n",
      "vgg/conv3_2/biases\n",
      "vgg/conv3_2/BiasAdd\n",
      "vgg/conv3_2/conv3_2\n",
      "vgg/conv3_3/filter\n",
      "vgg/conv3_3/Conv2D\n",
      "vgg/conv3_3/biases\n",
      "vgg/conv3_3/BiasAdd\n",
      "vgg/conv3_3/conv3_3\n",
      "vgg/pool3\n",
      "vgg/conv4_1/filter\n",
      "vgg/conv4_1/Conv2D\n",
      "vgg/conv4_1/biases\n",
      "vgg/conv4_1/BiasAdd\n",
      "vgg/conv4_1/conv4_1\n",
      "vgg/conv4_2/filter\n",
      "vgg/conv4_2/Conv2D\n",
      "vgg/conv4_2/biases\n",
      "vgg/conv4_2/BiasAdd\n",
      "vgg/conv4_2/conv4_2\n",
      "vgg/conv4_3/filter\n",
      "vgg/conv4_3/Conv2D\n",
      "vgg/conv4_3/biases\n",
      "vgg/conv4_3/BiasAdd\n",
      "vgg/conv4_3/conv4_3\n",
      "vgg/pool4\n",
      "vgg/conv5_1/filter\n",
      "vgg/conv5_1/Conv2D\n",
      "vgg/conv5_1/biases\n",
      "vgg/conv5_1/BiasAdd\n",
      "vgg/conv5_1/conv5_1\n",
      "vgg/conv5_2/filter\n",
      "vgg/conv5_2/Conv2D\n",
      "vgg/conv5_2/biases\n",
      "vgg/conv5_2/BiasAdd\n",
      "vgg/conv5_2/conv5_2\n",
      "vgg/conv5_3/filter\n",
      "vgg/conv5_3/Conv2D\n",
      "vgg/conv5_3/biases\n",
      "vgg/conv5_3/BiasAdd\n",
      "vgg/conv5_3/conv5_3\n",
      "vgg/pool5\n",
      "vgg/Reshape/shape\n",
      "vgg/Reshape\n",
      "vgg/Const\n",
      "vgg/Const_1\n",
      "vgg/MatMul\n",
      "vgg/fc6\n",
      "vgg/fc6_relu\n",
      "vgg/dropout/Shape\n",
      "vgg/dropout/random_uniform/min\n",
      "vgg/dropout/random_uniform/range\n",
      "vgg/dropout/random_uniform/RandomUniform\n",
      "vgg/dropout/random_uniform/mul\n",
      "vgg/dropout/random_uniform\n",
      "vgg/dropout/add/x\n",
      "vgg/dropout/add\n",
      "vgg/dropout/Floor\n",
      "vgg/dropout/mul/y\n",
      "vgg/dropout/mul\n",
      "vgg/dropout/mul_1\n",
      "vgg/Reshape_1/shape\n",
      "vgg/Reshape_1\n",
      "vgg/Const_2\n",
      "vgg/Const_3\n",
      "vgg/MatMul_1\n",
      "vgg/fc7\n",
      "vgg/fc7_relu\n",
      "vgg/dropout_1/Shape\n",
      "vgg/dropout_1/random_uniform/min\n",
      "vgg/dropout_1/random_uniform/range\n",
      "vgg/dropout_1/random_uniform/RandomUniform\n",
      "vgg/dropout_1/random_uniform/mul\n",
      "vgg/dropout_1/random_uniform\n",
      "vgg/dropout_1/add/x\n",
      "vgg/dropout_1/add\n",
      "vgg/dropout_1/Floor\n",
      "vgg/dropout_1/mul/y\n",
      "vgg/dropout_1/mul\n",
      "vgg/dropout_1/mul_1\n",
      "vgg/Reshape_2/shape\n",
      "vgg/Reshape_2\n",
      "vgg/Const_4\n",
      "vgg/Const_5\n",
      "vgg/MatMul_2\n",
      "vgg/fc8\n",
      "vgg/prob\n",
      "vgg/init\n"
     ]
    }
   ],
   "source": [
    "for k in names:\n",
    "    print k"
   ]
  },
  {
   "cell_type": "code",
   "execution_count": 3,
   "metadata": {
    "collapsed": true
   },
   "outputs": [],
   "source": [
    "sess=tf.InteractiveSession()"
   ]
  }
 ],
 "metadata": {
  "kernelspec": {
   "display_name": "Python 2",
   "language": "python",
   "name": "python2"
  },
  "language_info": {
   "codemirror_mode": {
    "name": "ipython",
    "version": 2.0
   },
   "file_extension": ".py",
   "mimetype": "text/x-python",
   "name": "python",
   "nbconvert_exporter": "python",
   "pygments_lexer": "ipython2",
   "version": "2.7.10"
  }
 },
 "nbformat": 4,
 "nbformat_minor": 0
}