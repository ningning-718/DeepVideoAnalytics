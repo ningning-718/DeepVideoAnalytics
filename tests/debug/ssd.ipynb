{
 "cells": [
  {
   "cell_type": "code",
   "execution_count": 1,
   "metadata": {
    "collapsed": false
   },
   "outputs": [],
   "source": [
    "import sys\n",
    "sys.path.append('../../')\n",
    "import django,os,glob\n",
    "os.environ.setdefault(\"DJANGO_SETTINGS_MODULE\", \"dva.settings\")\n",
    "django.setup()"
   ]
  },
  {
   "cell_type": "code",
   "execution_count": 2,
   "metadata": {
    "collapsed": true
   },
   "outputs": [],
   "source": [
    "import tensorflow as tf"
   ]
  },
  {
   "cell_type": "code",
   "execution_count": 3,
   "metadata": {
    "collapsed": true
   },
   "outputs": [],
   "source": [
    "from dvalib import detector"
   ]
  },
  {
   "cell_type": "code",
   "execution_count": 4,
   "metadata": {
    "collapsed": false
   },
   "outputs": [],
   "source": [
    "class_names = {1: {'id': 1, 'name': u'person'},\n",
    "               2: {'id': 2, 'name': u'bicycle'},\n",
    "               3: {'id': 3, 'name': u'car'},\n",
    "               4: {'id': 4, 'name': u'motorcycle'},\n",
    "               5: {'id': 5, 'name': u'airplane'},\n",
    "               6: {'id': 6, 'name': u'bus'},\n",
    "               7: {'id': 7, 'name': u'train'},\n",
    "               8: {'id': 8, 'name': u'truck'},\n",
    "               9: {'id': 9, 'name': u'boat'}, \n",
    "               10: {'id': 10, 'name': u'traffic light'}, \n",
    "               11: {'id': 11, 'name': u'fire hydrant'},\n",
    "               13: {'id': 13, 'name': u'stop sign'}, \n",
    "               14: {'id': 14, 'name': u'parking meter'},\n",
    "               15: {'id': 15, 'name': u'bench'}, \n",
    "               16: {'id': 16, 'name': u'bird'}, \n",
    "               17: {'id': 17, 'name': u'cat'}, \n",
    "               18: {'id': 18, 'name': u'dog'}, \n",
    "               19: {'id': 19, 'name': u'horse'}, \n",
    "               20: {'id': 20, 'name': u'sheep'}, \n",
    "               21: {'id': 21, 'name': u'cow'}, \n",
    "               22: {'id': 22, 'name': u'elephant'}, \n",
    "               23: {'id': 23, 'name': u'bear'}, \n",
    "               24: {'id': 24, 'name': u'zebra'},\n",
    "               25: {'id': 25, 'name': u'giraffe'},\n",
    "               27: {'id': 27, 'name': u'backpack'},\n",
    "               28: {'id': 28, 'name': u'umbrella'},\n",
    "               31: {'id': 31, 'name': u'handbag'},\n",
    "               32: {'id': 32, 'name': u'tie'},\n",
    "               33: {'id': 33, 'name': u'suitcase'},\n",
    "               34: {'id': 34, 'name': u'frisbee'}, \n",
    "               35: {'id': 35, 'name': u'skis'},\n",
    "               36: {'id': 36, 'name': u'snowboard'}, \n",
    "               37: {'id': 37, 'name': u'sports ball'},\n",
    "               38: {'id': 38, 'name': u'kite'},\n",
    "               39: {'id': 39, 'name': u'baseball bat'},\n",
    "               40: {'id': 40, 'name': u'baseball glove'},\n",
    "               41: {'id': 41, 'name': u'skateboard'},\n",
    "               42: {'id': 42, 'name': u'surfboard'},\n",
    "               43: {'id': 43, 'name': u'tennis racket'},\n",
    "               44: {'id': 44, 'name': u'bottle'}, \n",
    "               46: {'id': 46, 'name': u'wine glass'}, \n",
    "               47: {'id': 47, 'name': u'cup'}, \n",
    "               48: {'id': 48, 'name': u'fork'}, \n",
    "               49: {'id': 49, 'name': u'knife'},\n",
    "               50: {'id': 50, 'name': u'spoon'}, \n",
    "               51: {'id': 51, 'name': u'bowl'}, \n",
    "               52: {'id': 52, 'name': u'banana'}, \n",
    "               53: {'id': 53, 'name': u'apple'},\n",
    "               54: {'id': 54, 'name': u'sandwich'},\n",
    "               55: {'id': 55, 'name': u'orange'}, \n",
    "               56: {'id': 56, 'name': u'broccoli'},\n",
    "               57: {'id': 57, 'name': u'carrot'}, \n",
    "               58: {'id': 58, 'name': u'hot dog'}, \n",
    "               59: {'id': 59, 'name': u'pizza'},\n",
    "               60: {'id': 60, 'name': u'donut'}, \n",
    "               61: {'id': 61, 'name': u'cake'},\n",
    "               62: {'id': 62, 'name': u'chair'}, \n",
    "               63: {'id': 63, 'name': u'couch'}, \n",
    "               64: {'id': 64, 'name': u'potted plant'}, \n",
    "               65: {'id': 65, 'name': u'bed'}, \n",
    "               67: {'id': 67, 'name': u'dining table'},\n",
    "               70: {'id': 70, 'name': u'toilet'},\n",
    "               72: {'id': 72, 'name': u'tv'}, \n",
    "               73: {'id': 73, 'name': u'laptop'}, \n",
    "               74: {'id': 74, 'name': u'mouse'},\n",
    "               75: {'id': 75, 'name': u'remote'}, \n",
    "               76: {'id': 76, 'name': u'keyboard'}, \n",
    "               77: {'id': 77, 'name': u'cell phone'},\n",
    "               78: {'id': 78, 'name': u'microwave'}, \n",
    "               79: {'id': 79, 'name': u'oven'}, \n",
    "               80: {'id': 80, 'name': u'toaster'},\n",
    "               81: {'id': 81, 'name': u'sink'}, \n",
    "               82: {'id': 82, 'name': u'refrigerator'}, \n",
    "               84: {'id': 84, 'name': u'book'},\n",
    "               85: {'id': 85, 'name': u'clock'},\n",
    "               86: {'id': 86, 'name': u'vase'}, \n",
    "               87: {'id': 87, 'name': u'scissors'},\n",
    "               88: {'id': 88, 'name': u'teddy bear'},\n",
    "               89: {'id': 89, 'name': u'hair drier'},\n",
    "               90: {'id': 90, 'name': u'toothbrush'}}"
   ]
  },
  {
   "cell_type": "code",
   "execution_count": 5,
   "metadata": {
    "collapsed": true
   },
   "outputs": [],
   "source": [
    "class_index_to_string = {k:v['name'] for k,v in class_names.iteritems()} "
   ]
  },
  {
   "cell_type": "code",
   "execution_count": 12,
   "metadata": {
    "collapsed": false
   },
   "outputs": [
    {
     "name": "stdout",
     "output_type": "stream",
     "text": [
      "{1: u'person', 2: u'bicycle', 3: u'car', 4: u'motorcycle', 5: u'airplane', 6: u'bus', 7: u'train', 8: u'truck', 9: u'boat', 10: u'traffic light', 11: u'fire hydrant', 13: u'stop sign', 14: u'parking meter', 15: u'bench', 16: u'bird', 17: u'cat', 18: u'dog', 19: u'horse', 20: u'sheep', 21: u'cow', 22: u'elephant', 23: u'bear', 24: u'zebra', 25: u'giraffe', 27: u'backpack', 28: u'umbrella', 31: u'handbag', 32: u'tie', 33: u'suitcase', 34: u'frisbee', 35: u'skis', 36: u'snowboard', 37: u'sports ball', 38: u'kite', 39: u'baseball bat', 40: u'baseball glove', 41: u'skateboard', 42: u'surfboard', 43: u'tennis racket', 44: u'bottle', 46: u'wine glass', 47: u'cup', 48: u'fork', 49: u'knife', 50: u'spoon', 51: u'bowl', 52: u'banana', 53: u'apple', 54: u'sandwich', 55: u'orange', 56: u'broccoli', 57: u'carrot', 58: u'hot dog', 59: u'pizza', 60: u'donut', 61: u'cake', 62: u'chair', 63: u'couch', 64: u'potted plant', 65: u'bed', 67: u'dining table', 70: u'toilet', 72: u'tv', 73: u'laptop', 74: u'mouse', 75: u'remote', 76: u'keyboard', 77: u'cell phone', 78: u'microwave', 79: u'oven', 80: u'toaster', 81: u'sink', 82: u'refrigerator', 84: u'book', 85: u'clock', 86: u'vase', 87: u'scissors', 88: u'teddy bear', 89: u'hair drier', 90: u'toothbrush'}\n"
     ]
    }
   ],
   "source": [
    "print class_index_to_string"
   ]
  },
  {
   "cell_type": "code",
   "execution_count": 6,
   "metadata": {
    "collapsed": false
   },
   "outputs": [],
   "source": [
    "model_path = \"/Users/aub3/Dropbox/DeepVideoAnalytics/dvalib/object_detection/ssd_mobilenet_v1_coco_11_06_2017/frozen_inference_graph.pb\"\n",
    "d = detector.TFDetector(model_path=model_path,class_index_to_string=class_index_to_string)"
   ]
  },
  {
   "cell_type": "code",
   "execution_count": 7,
   "metadata": {
    "collapsed": false
   },
   "outputs": [],
   "source": [
    "d.load()"
   ]
  },
  {
   "cell_type": "code",
   "execution_count": 10,
   "metadata": {
    "collapsed": false,
    "scrolled": false
   },
   "outputs": [],
   "source": [
    "detections = d.detect(\"/Users/aub3/Dropbox/DeepVideoAnalytics/notebooks/images/person.jpg\")"
   ]
  },
  {
   "cell_type": "code",
   "execution_count": 11,
   "metadata": {
    "collapsed": false
   },
   "outputs": [
    {
     "name": "stdout",
     "output_type": "stream",
     "text": [
      "{'right': 275, 'bottom': 381, 'top': 103, 'object_name': u'person', 'score': 0.98659921, 'left': 193}\n",
      "{'right': 600, 'bottom': 340, 'top': 135, 'object_name': u'cow', 'score': 0.82458395, 'left': 408}\n",
      "{'right': 202, 'bottom': 347, 'top': 266, 'object_name': u'dog', 'score': 0.70820665, 'left': 72}\n",
      "{'right': 601, 'bottom': 347, 'top': 138, 'object_name': u'sheep', 'score': 0.37876359, 'left': 403}\n",
      "{'right': 604, 'bottom': 343, 'top': 136, 'object_name': u'dog', 'score': 0.1835705, 'left': 404}\n"
     ]
    }
   ],
   "source": [
    "for d in detections:\n",
    "    print d"
   ]
  },
  {
   "cell_type": "markdown",
   "metadata": {},
   "source": [
    "### Trying with queue"
   ]
  },
  {
   "cell_type": "code",
   "execution_count": null,
   "metadata": {
    "collapsed": false
   },
   "outputs": [],
   "source": [
    "input_path = \"/Users/aub3/media/1/frames/*.jpg\"\n",
    "model_path = \"/Users/aub3/Dropbox/DeepVideoAnalytics/dvalib/object_detection/ssd_mobilenet_v1_coco_11_06_2017/frozen_inference_graph.pb\"\n",
    "detection_graph = tf.Graph()\n",
    "with detection_graph.as_default():\n",
    "    filename_queue = tf.train.string_input_producer(tf.train.match_filenames_once(input_path))\n",
    "    image_reader = tf.WholeFileReader()\n",
    "    imname, image_file = image_reader.read(filename_queue)\n",
    "    image = tf.expand_dims(tf.image.decode_image(image_file),0)\n",
    "    od_graph_def = tf.GraphDef()\n",
    "    with tf.gfile.GFile(model_path, 'rb') as fid:\n",
    "        serialized_graph = fid.read()\n",
    "        od_graph_def.ParseFromString(serialized_graph)\n",
    "        tf.import_graph_def(od_graph_def, name='',input_map={\"image_tensor:0\": image})\n",
    "    sess = tf.InteractiveSession(graph=detection_graph)\n",
    "image_tensor = detection_graph.get_tensor_by_name('image_tensor:0')\n",
    "boxes = detection_graph.get_tensor_by_name('detection_boxes:0')\n",
    "scores = detection_graph.get_tensor_by_name('detection_scores:0')\n",
    "classes = detection_graph.get_tensor_by_name('detection_classes:0')\n",
    "num_detections = detection_graph.get_tensor_by_name('num_detections:0')"
   ]
  },
  {
   "cell_type": "code",
   "execution_count": null,
   "metadata": {
    "collapsed": true
   },
   "outputs": [],
   "source": [
    "imname"
   ]
  }
 ],
 "metadata": {
  "kernelspec": {
   "display_name": "Python 2",
   "language": "python",
   "name": "python2"
  },
  "language_info": {
   "codemirror_mode": {
    "name": "ipython",
    "version": 2
   },
   "file_extension": ".py",
   "mimetype": "text/x-python",
   "name": "python",
   "nbconvert_exporter": "python",
   "pygments_lexer": "ipython2",
   "version": "2.7.10"
  }
 },
 "nbformat": 4,
 "nbformat_minor": 0
}
