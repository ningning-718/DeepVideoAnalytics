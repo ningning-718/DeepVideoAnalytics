{
 "cells": [
  {
   "cell_type": "code",
   "execution_count": 1,
   "metadata": {
    "collapsed": false
   },
   "outputs": [],
   "source": [
    "import sys\n",
    "sys.path.append(\"../\")"
   ]
  },
  {
   "cell_type": "code",
   "execution_count": 2,
   "metadata": {
    "collapsed": false
   },
   "outputs": [],
   "source": [
    "import django,os,glob\n",
    "os.environ.setdefault(\"DJANGO_SETTINGS_MODULE\", \"dva.settings\")\n",
    "django.setup()"
   ]
  },
  {
   "cell_type": "code",
   "execution_count": 3,
   "metadata": {
    "collapsed": false
   },
   "outputs": [],
   "source": [
    "from dvalib import indexer\n",
    "inception = indexer.InceptionIndexer()"
   ]
  },
  {
   "cell_type": "code",
   "execution_count": 4,
   "metadata": {
    "collapsed": false,
    "scrolled": true
   },
   "outputs": [
    {
     "name": "stderr",
     "output_type": "stream",
     "text": [
      "WARNING:root:Loading the network inception\n"
     ]
    }
   ],
   "source": [
    "vec = inception.apply('debug_notebooks/person.jpg')"
   ]
  },
  {
   "cell_type": "code",
   "execution_count": 5,
   "metadata": {
    "collapsed": false
   },
   "outputs": [
    {
     "name": "stderr",
     "output_type": "stream",
     "text": [
      "/Users/aub3/portenv/lib/python2.7/site-packages/sklearn/cross_validation.py:44: DeprecationWarning: This module was deprecated in version 0.18 in favor of the model_selection module into which all the refactored classes and functions are moved. Also note that the interface of the new CV iterators are different from that of this module. This module will be removed in 0.20.\n",
      "  \"This module will be removed in 0.20.\", DeprecationWarning)\n"
     ]
    }
   ],
   "source": [
    "from dvalib import clustering"
   ]
  },
  {
   "cell_type": "code",
   "execution_count": 6,
   "metadata": {
    "collapsed": false
   },
   "outputs": [],
   "source": [
    "clust = clustering.Clustering(fnames=[],n_components=None,model_proto_filename='/Users/aub3/media/clusters/4.proto',m=None,v=None,sub=None)"
   ]
  },
  {
   "cell_type": "code",
   "execution_count": 7,
   "metadata": {
    "collapsed": true
   },
   "outputs": [],
   "source": [
    "clust.load()"
   ]
  },
  {
   "cell_type": "code",
   "execution_count": 8,
   "metadata": {
    "collapsed": true
   },
   "outputs": [],
   "source": [
    "vec = vec.transpose().squeeze()"
   ]
  },
  {
   "cell_type": "code",
   "execution_count": 9,
   "metadata": {
    "collapsed": false
   },
   "outputs": [
    {
     "name": "stderr",
     "output_type": "stream",
     "text": [
      "/Users/aub3/portenv/lib/python2.7/site-packages/sklearn/utils/validation.py:395: DeprecationWarning: Passing 1d arrays as data is deprecated in 0.17 and will raise ValueError in 0.19. Reshape your data either using X.reshape(-1, 1) if your data has a single feature or X.reshape(1, -1) if it contains a single sample.\n",
      "  DeprecationWarning)\n"
     ]
    },
    {
     "data": {
      "text/plain": [
       "((1, 11),\n",
       " (5, 120, 61, 59, 39, 108, 48, 132, 12, 76, 139, 94, 219, 109, 132, 23))"
      ]
     },
     "execution_count": 9,
     "metadata": {},
     "output_type": "execute_result"
    }
   ],
   "source": [
    "clust.apply(vec)"
   ]
  },
  {
   "cell_type": "code",
   "execution_count": 11,
   "metadata": {
    "collapsed": true
   },
   "outputs": [],
   "source": [
    "import numpy as np"
   ]
  },
  {
   "cell_type": "code",
   "execution_count": 12,
   "metadata": {
    "collapsed": false
   },
   "outputs": [
    {
     "name": "stderr",
     "output_type": "stream",
     "text": [
      "/Users/aub3/portenv/lib/python2.7/site-packages/sklearn/utils/validation.py:395: DeprecationWarning: Passing 1d arrays as data is deprecated in 0.17 and will raise ValueError in 0.19. Reshape your data either using X.reshape(-1, 1) if your data has a single feature or X.reshape(1, -1) if it contains a single sample.\n",
      "  DeprecationWarning)\n"
     ]
    },
    {
     "data": {
      "text/plain": [
       "([Result(id=5, code=(5, ((1, 11), (5, 120, 61, 59, 39, 108, 48, 132, 12, 76, 139, 94, 219, 109, 132, 23)))),\n",
       "  Result(id=4909, code=(4909, ((1, 11), (69, 45, 91, 203, 101, 120, 167, 66, 212, 66, 117, 248, 6, 207, 87, 233)))),\n",
       "  Result(id=5902, code=(5902, ((1, 11), (153, 243, 51, 72, 43, 81, 71, 115, 49, 181, 60, 35, 108, 80, 96, 206)))),\n",
       "  Result(id=4719, code=(4719, ((1, 11), (35, 46, 229, 137, 30, 109, 191, 46, 53, 77, 66, 105, 84, 24, 165, 157)))),\n",
       "  Result(id=4231, code=(4231, ((1, 11), (199, 24, 59, 135, 228, 110, 24, 90, 169, 203, 179, 128, 126, 101, 242, 48)))),\n",
       "  Result(id=641, code=(641, ((1, 11), (95, 37, 19, 59, 73, 236, 129, 127, 32, 74, 152, 216, 227, 225, 31, 223)))),\n",
       "  Result(id=5843, code=(5843, ((1, 11), (61, 38, 197, 119, 249, 225, 189, 44, 221, 77, 69, 191, 203, 251, 66, 248)))),\n",
       "  Result(id=2881, code=(2881, ((1, 11), (71, 122, 43, 243, 210, 54, 137, 90, 25, 48, 254, 110, 34, 73, 14, 173)))),\n",
       "  Result(id=1264, code=(1264, ((1, 11), (70, 1, 218, 167, 75, 73, 1, 111, 102, 0, 88, 242, 44, 50, 117, 53)))),\n",
       "  Result(id=1865, code=(1865, ((1, 11), (250, 13, 15, 98, 254, 215, 198, 155, 57, 241, 238, 93, 203, 128, 206, 252)))),\n",
       "  Result(id=5214, code=(5214, ((1, 11), (10, 55, 86, 0, 82, 227, 144, 60, 0, 120, 7, 203, 85, 105, 152, 177)))),\n",
       "  Result(id=1575, code=(1575, ((1, 11), (104, 10, 143, 197, 71, 30, 195, 215, 142, 219, 83, 125, 56, 139, 197, 65)))),\n",
       "  Result(id=2054, code=(2054, ((1, 11), (106, 167, 249, 56, 115, 105, 213, 95, 63, 206, 213, 246, 12, 251, 114, 239)))),\n",
       "  Result(id=3872, code=(3872, ((1, 11), (30, 72, 251, 129, 25, 140, 217, 252, 142, 168, 97, 118, 138, 226, 246, 186)))),\n",
       "  Result(id=2348, code=(2348, ((1, 11), (3, 76, 97, 248, 177, 199, 199, 164, 53, 43, 48, 124, 72, 24, 3, 113)))),\n",
       "  Result(id=4768, code=(4768, ((1, 11), (114, 24, 112, 235, 149, 3, 12, 193, 173, 202, 154, 168, 203, 220, 253, 75)))),\n",
       "  Result(id=2434, code=(2434, ((1, 11), (95, 196, 200, 146, 23, 99, 234, 152, 61, 206, 238, 160, 117, 251, 251, 144)))),\n",
       "  Result(id=2781, code=(2781, ((1, 11), (100, 24, 84, 66, 82, 163, 47, 15, 152, 84, 130, 250, 39, 23, 152, 199)))),\n",
       "  Result(id=112, code=(112, ((1, 11), (169, 75, 240, 243, 32, 23, 227, 154, 120, 251, 78, 234, 57, 149, 39, 111)))),\n",
       "  Result(id=529, code=(529, ((1, 11), (47, 216, 76, 194, 156, 179, 80, 233, 245, 171, 220, 156, 203, 176, 253, 82)))),\n",
       "  Result(id=1315, code=(1315, ((1, 11), (251, 110, 44, 68, 135, 43, 242, 178, 64, 82, 10, 19, 102, 251, 66, 207)))),\n",
       "  Result(id=2081, code=(2081, ((1, 11), (244, 199, 113, 66, 73, 40, 146, 176, 249, 27, 60, 177, 206, 226, 91, 134)))),\n",
       "  Result(id=185, code=(185, ((1, 11), (104, 163, 187, 170, 161, 94, 176, 69, 187, 126, 232, 40, 244, 61, 212, 244)))),\n",
       "  Result(id=388, code=(388, ((1, 11), (16, 130, 24, 11, 173, 214, 160, 120, 79, 57, 39, 80, 88, 225, 146, 189)))),\n",
       "  Result(id=5038, code=(5038, ((1, 11), (156, 144, 137, 170, 5, 78, 98, 127, 14, 43, 204, 175, 224, 45, 49, 233)))),\n",
       "  Result(id=5720, code=(5720, ((1, 11), (176, 220, 43, 163, 73, 64, 90, 67, 0, 113, 60, 168, 6, 176, 148, 103)))),\n",
       "  Result(id=1337, code=(1337, ((1, 11), (224, 136, 126, 44, 82, 231, 214, 36, 17, 9, 112, 112, 26, 162, 52, 141)))),\n",
       "  Result(id=2755, code=(2755, ((1, 11), (180, 87, 120, 131, 160, 111, 189, 15, 79, 241, 10, 118, 86, 85, 253, 75)))),\n",
       "  Result(id=4365, code=(4365, ((1, 11), (9, 72, 36, 235, 120, 253, 229, 180, 0, 38, 138, 175, 115, 10, 68, 31)))),\n",
       "  Result(id=2004, code=(2004, ((1, 11), (114, 24, 90, 243, 82, 225, 118, 108, 173, 227, 213, 246, 123, 220, 200, 163)))),\n",
       "  Result(id=2407, code=(2407, ((1, 11), (99, 167, 170, 56, 39, 3, 0, 255, 221, 106, 154, 168, 235, 13, 87, 0)))),\n",
       "  Result(id=2276, code=(2276, ((1, 11), (29, 24, 209, 40, 177, 50, 148, 108, 14, 150, 123, 10, 197, 69, 253, 195)))),\n",
       "  Result(id=2896, code=(2896, ((1, 11), (251, 61, 120, 119, 149, 81, 67, 255, 0, 177, 154, 191, 52, 152, 87, 186)))),\n",
       "  Result(id=2271, code=(2271, ((1, 11), (99, 117, 199, 195, 126, 206, 47, 178, 173, 232, 63, 245, 203, 182, 117, 252)))),\n",
       "  Result(id=3186, code=(3186, ((1, 11), (180, 76, 120, 3, 185, 212, 38, 175, 66, 177, 154, 160, 117, 105, 253, 195)))),\n",
       "  Result(id=826, code=(826, ((1, 11), (99, 72, 51, 140, 156, 102, 27, 183, 63, 206, 104, 118, 12, 156, 19, 241)))),\n",
       "  Result(id=3053, code=(3053, ((1, 11), (114, 13, 1, 3, 212, 52, 49, 178, 79, 56, 144, 168, 166, 133, 223, 161)))),\n",
       "  Result(id=519, code=(519, ((1, 11), (114, 19, 168, 7, 210, 68, 164, 44, 25, 123, 47, 133, 192, 105, 148, 192)))),\n",
       "  Result(id=6009, code=(6009, ((1, 11), (57, 76, 250, 137, 46, 74, 198, 149, 0, 161, 31, 67, 195, 109, 146, 131)))),\n",
       "  Result(id=3953, code=(3953, ((1, 11), (155, 65, 116, 111, 252, 40, 49, 53, 131, 207, 213, 245, 110, 220, 116, 204)))),\n",
       "  Result(id=3621, code=(3621, ((1, 11), (43, 7, 53, 133, 7, 188, 211, 169, 105, 181, 112, 237, 186, 171, 50, 250)))),\n",
       "  Result(id=4957, code=(4957, ((1, 11), (207, 176, 255, 3, 185, 3, 200, 111, 73, 43, 183, 213, 54, 32, 36, 93)))),\n",
       "  Result(id=959, code=(959, ((1, 11), (1, 1, 132, 127, 67, 216, 174, 253, 61, 67, 194, 177, 70, 240, 110, 80)))),\n",
       "  Result(id=483, code=(483, ((1, 11), (47, 13, 249, 3, 149, 120, 38, 65, 140, 77, 18, 93, 216, 72, 65, 110)))),\n",
       "  Result(id=3338, code=(3338, ((1, 11), (180, 163, 169, 61, 243, 34, 64, 193, 173, 1, 10, 246, 197, 251, 183, 161)))),\n",
       "  Result(id=3597, code=(3597, ((1, 11), (106, 61, 139, 203, 156, 120, 87, 111, 66, 227, 141, 75, 131, 10, 158, 167)))),\n",
       "  Result(id=254, code=(254, ((1, 11), (182, 41, 180, 186, 66, 63, 226, 32, 29, 218, 2, 216, 226, 194, 84, 179)))),\n",
       "  Result(id=4394, code=(4394, ((1, 11), (244, 57, 50, 3, 228, 108, 79, 192, 238, 235, 234, 137, 213, 209, 235, 141)))),\n",
       "  Result(id=1201, code=(1201, ((1, 11), (40, 45, 196, 180, 55, 90, 97, 3, 251, 195, 73, 150, 203, 240, 6, 3)))),\n",
       "  Result(id=3678, code=(3678, ((1, 11), (101, 113, 84, 41, 214, 255, 206, 65, 153, 18, 83, 106, 187, 239, 86, 60))))],\n",
       " 1)"
      ]
     },
     "execution_count": 12,
     "metadata": {},
     "output_type": "execute_result"
    }
   ],
   "source": [
    "clust.searcher.search(np.dot((clust.pca_reduction.transform(vec) - clust.mu), clust.P).transpose().squeeze(),quota=50)"
   ]
  },
  {
   "cell_type": "code",
   "execution_count": 13,
   "metadata": {
    "collapsed": false
   },
   "outputs": [
    {
     "name": "stderr",
     "output_type": "stream",
     "text": [
      "/Users/aub3/portenv/lib/python2.7/site-packages/sklearn/utils/validation.py:395: DeprecationWarning: Passing 1d arrays as data is deprecated in 0.17 and will raise ValueError in 0.19. Reshape your data either using X.reshape(-1, 1) if your data has a single feature or X.reshape(1, -1) if it contains a single sample.\n",
      "  DeprecationWarning)\n"
     ]
    }
   ],
   "source": [
    "a = clust.searcher.search(np.dot((clust.pca_reduction.transform(vec) - clust.mu), clust.P).transpose().squeeze(),quota=50)"
   ]
  },
  {
   "cell_type": "code",
   "execution_count": 18,
   "metadata": {
    "collapsed": false
   },
   "outputs": [
    {
     "data": {
      "text/plain": [
       "5"
      ]
     },
     "execution_count": 18,
     "metadata": {},
     "output_type": "execute_result"
    }
   ],
   "source": [
    "a[0][0].id"
   ]
  },
  {
   "cell_type": "code",
   "execution_count": null,
   "metadata": {
    "collapsed": true
   },
   "outputs": [],
   "source": [
    ""
   ]
  }
 ],
 "metadata": {
  "kernelspec": {
   "display_name": "Python 2",
   "language": "python",
   "name": "python2"
  },
  "language_info": {
   "codemirror_mode": {
    "name": "ipython",
    "version": 2.0
   },
   "file_extension": ".py",
   "mimetype": "text/x-python",
   "name": "python",
   "nbconvert_exporter": "python",
   "pygments_lexer": "ipython2",
   "version": "2.7.10"
  }
 },
 "nbformat": 4,
 "nbformat_minor": 0
}